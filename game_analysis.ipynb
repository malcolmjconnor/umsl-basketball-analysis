{
 "cells": [
  {
   "cell_type": "code",
   "execution_count": null,
   "metadata": {},
   "outputs": [],
   "source": [
    "pip install tabula-py\n",
    "import pandas as pd\n",
    "from tabula import read_pdf"
   ]
  },
  {
   "cell_type": "code",
   "execution_count": null,
   "metadata": {},
   "outputs": [],
   "source": [
    "# Extract the PDF file into a list of DataFrames\n",
    "pdf_path = \"./data/Cedarvile-11-04-23.pdf\"\n",
    "dfs = read_pdf(pdf_path, pages=\"all\", multiple_tables=True)\n",
    "\n",
    "# Separate the DataFrames into individual variables\n",
    "df0 = dfs[0]\n",
    "df1 = dfs[1]\n",
    "df2 = dfs[2]"
   ]
  },
  {
   "cell_type": "code",
   "execution_count": 44,
   "metadata": {},
   "outputs": [
    {
     "data": {
      "text/html": [
       "<div>\n",
       "<style scoped>\n",
       "    .dataframe tbody tr th:only-of-type {\n",
       "        vertical-align: middle;\n",
       "    }\n",
       "\n",
       "    .dataframe tbody tr th {\n",
       "        vertical-align: top;\n",
       "    }\n",
       "\n",
       "    .dataframe thead th {\n",
       "        text-align: right;\n",
       "    }\n",
       "</style>\n",
       "<table border=\"1\" class=\"dataframe\">\n",
       "  <thead>\n",
       "    <tr style=\"text-align: right;\">\n",
       "      <th></th>\n",
       "      <th>Team</th>\n",
       "      <th>1st Half</th>\n",
       "      <th>2nd Half</th>\n",
       "      <th>Final</th>\n",
       "    </tr>\n",
       "  </thead>\n",
       "  <tbody>\n",
       "    <tr>\n",
       "      <th>0</th>\n",
       "      <td>Cedarville</td>\n",
       "      <td>40.0</td>\n",
       "      <td>35.0</td>\n",
       "      <td>75.0</td>\n",
       "    </tr>\n",
       "    <tr>\n",
       "      <th>2</th>\n",
       "      <td>Mo.-St. Louis</td>\n",
       "      <td>27.0</td>\n",
       "      <td>43.0</td>\n",
       "      <td>70.0</td>\n",
       "    </tr>\n",
       "  </tbody>\n",
       "</table>\n",
       "</div>"
      ],
      "text/plain": [
       "            Team  1st Half  2nd Half  Final\n",
       "0     Cedarville      40.0      35.0   75.0\n",
       "2  Mo.-St. Louis      27.0      43.0   70.0"
      ]
     },
     "execution_count": 44,
     "metadata": {},
     "output_type": "execute_result"
    }
   ],
   "source": [
    "# Clean the Score By Period table\n",
    "def process_score(df):\n",
    "    # Drop the first column and the second row, rename columns\n",
    "    return df.iloc[:, 1:].iloc[[0, 2], :].rename(\n",
    "        columns={'Unnamed: 0': 'Team', \n",
    "                 'Unnamed: 1': '1st Half',\n",
    "                 'Unnamed: 2': '2nd Half',\n",
    "                 'Unnamed: 3': 'Final'})\n",
    "\n",
    "\n",
    "\n",
    "# Clean the Player Stats tables for both teams\n",
    "def process_stats(df):\n",
    "    # Create an explicit copy of the DataFrame\n",
    "    df = df.copy()\n",
    "    \n",
    "    # Remove rows with all NaN values\n",
    "    df = df.dropna(axis=1, how='all')\n",
    "    \n",
    "    # Split 'FT ORB-DRB' column into separate columns\n",
    "    df[['FT', 'ORB-DRB']] = df['FT ORB-DRB'].str.split(' ', expand=True)\n",
    "\n",
    "    # Split FG, 3PT, and FT columns into made and attempted\n",
    "    df[['FGM', 'FGA']] = df['FG'].str.split('-', expand=True).astype(int)\n",
    "    df[['3PTM', '3PTA']] = df['3PT'].str.split('-', expand=True).astype(int)\n",
    "    df[['FTM', 'FTA']] = df['FT'].str.split('-', expand=True).astype(int)\n",
    "\n",
    "    # Split 'A TO BLK' column into separate columns\n",
    "    df[['A', 'TO', 'BLK']] = df['A TO BLK'].str.split(' ', expand=True)\n",
    "\n",
    "    # Split 'GS MIN' column into separate columns\n",
    "    df['MIN'] = df['GS MIN'].str.replace('*', '').str.replace(' ', '')\n",
    "    \n",
    "    # Split 'ORB-DRB' column into separate columns\n",
    "    df[['ORB', 'DRB']] = df['ORB-DRB'].str.split('-', expand=True)\n",
    "    \n",
    "    # Drop original columnsgs \n",
    "    df = df.drop(['FT ORB-DRB', 'A TO BLK', 'ORB-DRB', 'FG', '3PT', 'FT', 'GS MIN'], axis=1)\n",
    "    \n",
    "    return df\n",
    "\n",
    "\n",
    "score = process_score(df0)\n",
    "playerStats = process_stats(df1[20:29])\n",
    "oppPlayerStats = process_stats(df1[0:10])\n",
    "\n",
    "\n",
    "# Uncomment one to View\n",
    "score\n",
    "#playerStats\n",
    "#oppPlayerStats\n"
   ]
  },
  {
   "cell_type": "code",
   "execution_count": null,
   "metadata": {},
   "outputs": [],
   "source": []
  }
 ],
 "metadata": {
  "kernelspec": {
   "display_name": "Python 3",
   "language": "python",
   "name": "python3"
  },
  "language_info": {
   "codemirror_mode": {
    "name": "ipython",
    "version": 3
   },
   "file_extension": ".py",
   "mimetype": "text/x-python",
   "name": "python",
   "nbconvert_exporter": "python",
   "pygments_lexer": "ipython3",
   "version": "3.10.13"
  }
 },
 "nbformat": 4,
 "nbformat_minor": 2
}
